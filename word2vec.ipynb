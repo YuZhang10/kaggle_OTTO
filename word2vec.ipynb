{
 "cells": [
  {
   "cell_type": "code",
   "execution_count": 1,
   "metadata": {},
   "outputs": [],
   "source": [
    "from gensim.test.utils import datapath\n",
    "from gensim import utils\n",
    "import pandas as pd\n",
    "\n",
    "class MyCorpus:\n",
    "    \"\"\"An iterator that yields sentences (lists of str).\"\"\"\n",
    "    '''\n",
    "    looks like \n",
    "        ['164622', '295859', '164622', '1471398', '100193', '1010348']\n",
    "        ['805408', '1164836']\n",
    "        ['164275', '164275']\n",
    "    '''\n",
    "    def __iter__(self):\n",
    "        train_valA = pd.read_parquet(\"../feature/train_test.pqt\")\n",
    "        for row in train_valA.groupby('session').aid.agg(list):\n",
    "            yield list(map(str,row))"
   ]
  },
  {
   "cell_type": "code",
   "execution_count": 2,
   "metadata": {},
   "outputs": [
    {
     "name": "stdout",
     "output_type": "stream",
     "text": [
      "CPU times: user 1h 38min 18s, sys: 3min 24s, total: 1h 41min 43s\n",
      "Wall time: 41min 18s\n"
     ]
    }
   ],
   "source": [
    "%%time\n",
    "import gensim.models\n",
    "\n",
    "sentences = MyCorpus()\n",
    "model = gensim.models.Word2Vec(sentences=sentences,vector_size=50, window=5, min_count=1, workers=48)\n",
    "model.save(\"test_word2vec.model\")"
   ]
  },
  {
   "cell_type": "code",
   "execution_count": 8,
   "metadata": {},
   "outputs": [
    {
     "data": {
      "text/plain": [
       "[('1460571', 1.0),\n",
       " ('811371', 0.8562912493944168),\n",
       " ('959548', 0.8197945356369019),\n",
       " ('944778', 0.8026368021965027),\n",
       " ('447645', 0.8011001497507095),\n",
       " ('399992', 0.7969356775283813),\n",
       " ('620545', 0.794328361749649),\n",
       " ('1837490', 0.7895572334527969),\n",
       " ('1148071', 0.7806054502725601),\n",
       " ('1783610', 0.7790025621652603),\n",
       " ('1516952', 0.7733067125082016),\n",
       " ('426980', 0.7588517069816589),\n",
       " ('884993', 0.7550004124641418),\n",
       " ('582150', 0.7532247751951218),\n",
       " ('1125095', 0.7524993121623993),\n",
       " ('1204405', 0.7466821670532227),\n",
       " ('1095682', 0.7420242130756378),\n",
       " ('1727372', 0.740803986787796),\n",
       " ('824944', 0.7379255592823029),\n",
       " ('1611581', 0.7377781867980957)]"
      ]
     },
     "execution_count": 8,
     "metadata": {},
     "output_type": "execute_result"
    }
   ],
   "source": [
    "# It's important to note that item ids (aid) are string instead of int. \n",
    "# model.wv.most_similar(\"1460571\", topn=20)\n",
    "\n",
    "from gensim.similarities.annoy import AnnoyIndexer\n",
    "\n",
    "model = gensim.models.Word2Vec.load(\"word2vec.model\")\n",
    "annoy_index = AnnoyIndexer(model, 300)\n",
    "model.wv.most_similar(\"1460571\", topn=20, indexer=annoy_index)"
   ]
  },
  {
   "cell_type": "code",
   "execution_count": 12,
   "metadata": {},
   "outputs": [
    {
     "name": "stdout",
     "output_type": "stream",
     "text": [
      "CPU times: user 535 µs, sys: 15 µs, total: 550 µs\n",
      "Wall time: 395 µs\n"
     ]
    },
    {
     "data": {
      "text/plain": [
       "0.9586956"
      ]
     },
     "execution_count": 12,
     "metadata": {},
     "output_type": "execute_result"
    }
   ],
   "source": [
    "%%time\n",
    "model.wv.similarity('1460571', '811371')"
   ]
  }
 ],
 "metadata": {
  "kernelspec": {
   "display_name": "kaggle",
   "language": "python",
   "name": "python3"
  },
  "language_info": {
   "codemirror_mode": {
    "name": "ipython",
    "version": 3
   },
   "file_extension": ".py",
   "mimetype": "text/x-python",
   "name": "python",
   "nbconvert_exporter": "python",
   "pygments_lexer": "ipython3",
   "version": "3.7.12 | packaged by conda-forge | (default, Oct 26 2021, 06:08:53) \n[GCC 9.4.0]"
  },
  "orig_nbformat": 4,
  "vscode": {
   "interpreter": {
    "hash": "a3218bb28529b36eec24a9024c4e375ca4dd97d153ce39508d999fa46c0f46b5"
   }
  }
 },
 "nbformat": 4,
 "nbformat_minor": 2
}
